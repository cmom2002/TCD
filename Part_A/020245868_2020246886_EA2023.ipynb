{
 "cells": [
  {
   "cell_type": "markdown",
   "metadata": {},
   "source": [
    "# Trabalho Prático nº 1 - Análise de Expressões Faciais em Vídeo\n",
    "## Tópicos de Ciência dos Dados - MECD (2023/2024)\n",
    "\n",
    "- Carlos Matos - 2020245868\n",
    "- Mariana Magueijo - 2020246886"
   ]
  },
  {
   "cell_type": "code",
   "execution_count": 72,
   "metadata": {},
   "outputs": [],
   "source": [
    "import os\n",
    "import pandas as pd\n",
    "import matplotlib.pyplot as plt\n",
    "import pickle\n",
    "import numpy as np\n",
    "import random\n",
    "from scipy.spatial import distance\n",
    "from scipy.stats import ks_2samp\n",
    "from sklearn.decomposition import PCA\n",
    "from sklearn.preprocessing import StandardScaler"
   ]
  },
  {
   "cell_type": "markdown",
   "metadata": {},
   "source": [
    "##### Funções auxiliares"
   ]
  },
  {
   "cell_type": "code",
   "execution_count": null,
   "metadata": {},
   "outputs": [],
   "source": [
    "number_emotions = {'01': 'Neutral', '02': 'Calm', '03': 'Happy', '04': 'Sad', '05': 'Angry', '06': 'Fearful', '07': 'Disgust', '08': 'Surprised'}"
   ]
  },
  {
   "cell_type": "code",
   "execution_count": null,
   "metadata": {},
   "outputs": [],
   "source": [
    "def one_file_coordinates(file):\n",
    "    landmark = 68\n",
    "    f = pd.read_csv(\"dataset/\" + file)\n",
    "    frame_dict = {}\n",
    "    for nl in range(f.shape[0]):\n",
    "        if pd.isna(f[\"frame\"][nl]):\n",
    "            break\n",
    "        for i in range(landmark):\n",
    "            \n",
    "            if nl in frame_dict:\n",
    "                frame_dict[nl].append([f[\"x_\" + str(i)][nl], f[\"y_\" + str(i)][nl]])\n",
    "            else:\n",
    "                frame_dict[nl] = [[f[\"x_\" + str(i)][nl], f[\"y_\" + str(i)][nl]]]\n",
    "    return frame_dict"
   ]
  },
  {
   "cell_type": "code",
   "execution_count": null,
   "metadata": {},
   "outputs": [],
   "source": [
    "def file_coordinates(path):\n",
    "    files = os.listdir(path)\n",
    "    landmark = 68\n",
    "    all_info = {}\n",
    "    for file in files:\n",
    "        f = pd.read_csv(\"dataset/\" + file)\n",
    "        frame_dict = {}\n",
    "        for nl in range(f.shape[0]):\n",
    "            if pd.isna(f[\"frame\"][nl]):\n",
    "                break\n",
    "            for i in range(landmark):\n",
    "                \n",
    "                if nl in frame_dict:\n",
    "                    frame_dict[nl].append([f[\"x_\" + str(i)][nl], f[\"y_\" + str(i)][nl]])\n",
    "                else:\n",
    "                    frame_dict[nl] = [[f[\"x_\" + str(i)][nl], f[\"y_\" + str(i)][nl]]]\n",
    "        all_info[file] = frame_dict\n",
    "    with open(\"dicionary_inicial.pkl\", 'wb') as arq:\n",
    "        pickle.dump(all_info, arq)\n",
    "\n",
    "    return all_info\n",
    "\n",
    "if os.path.exists(\"dicionary_inicial.pkl\"):\n",
    "    with open(\"dicionary_inicial.pkl\", 'rb') as arq:\n",
    "        all_d = pickle.load(arq)\n",
    "else:\n",
    "    all_d = file_coordinates(\"dataset/\")\n",
    "\n",
    "print(all_d)"
   ]
  },
  {
   "cell_type": "markdown",
   "metadata": {},
   "source": [
    "#### 2. Extração do conteúdo dos ficheiros do dataset\n",
    "##### 2.1 Tratamento do dataset para um dicionário"
   ]
  },
  {
   "cell_type": "code",
   "execution_count": null,
   "metadata": {},
   "outputs": [],
   "source": [
    "def read_files(path):\n",
    "    files = os.listdir(path)\n",
    "    subject_emotions= {}\n",
    "\n",
    "    for file in files:\n",
    "        divide = file.split('-')\n",
    "        last = divide[-1]\n",
    "        name = os.path.splitext(last)[0]\n",
    "        divide[-1] = name\n",
    "\n",
    "        actor = \"Actor \" + str(int(name))\n",
    "\n",
    "        if actor in subject_emotions:\n",
    "            emotion = number_emotions[divide[2]]\n",
    "            if emotion in subject_emotions[actor]:\n",
    "                subject_emotions[actor][emotion].append(file)\n",
    "            else:\n",
    "                subject_emotions[actor][emotion] = [file]\n",
    "        else:\n",
    "            subject_emotions[actor] = {number_emotions[divide[2]]: [file]} \n",
    "\n",
    "    return subject_emotions\n",
    "        \n",
    "all_subject_emotions = read_files(\"dataset\")\n",
    "print(all_subject_emotions)\n"
   ]
  },
  {
   "cell_type": "markdown",
   "metadata": {},
   "source": [
    "##### 2.2 Coordenadas e preenchimento a NaN"
   ]
  },
  {
   "cell_type": "code",
   "execution_count": null,
   "metadata": {},
   "outputs": [],
   "source": [
    "def subject_routine(subject_emotions):\n",
    "    subject_data = {}\n",
    "    landmarks = 68 * 2\n",
    "    max_frames = 0\n",
    "    for subject in subject_emotions:\n",
    "        actor = subject\n",
    "        count_files = 0\n",
    "        for emotion in subject_emotions[subject]:\n",
    "            count_files += len(subject_emotions[subject][emotion])\n",
    "            for file in subject_emotions[subject][emotion]:\n",
    "                string = \"dataset/\" + file\n",
    "                nl = (pd.read_csv(string)).shape[0]\n",
    "                if nl > max_frames:\n",
    "                    max_frames = nl\n",
    "        subject_data[actor] = [count_files, landmarks]\n",
    "    for subject in subject_data:\n",
    "        subject_data[subject].append(max_frames)\n",
    "\n",
    "    return subject_data, max_frames\n",
    "\n",
    "all_subject_data, all_max_frames = subject_routine(all_subject_emotions)\n"
   ]
  },
  {
   "cell_type": "code",
   "execution_count": null,
   "metadata": {},
   "outputs": [],
   "source": [
    "def complete_files(path, max_frames):\n",
    "    files = os.listdir(path)\n",
    "\n",
    "    for file in files:\n",
    "        string = \"dataset/\" + file\n",
    "        f = pd.read_csv(string)\n",
    "        nl = f.shape[0]\n",
    "        add_lines = max_frames - nl\n",
    "        if add_lines > 0:\n",
    "            nan_lines = [None for _ in range(add_lines)]\n",
    "            new_file = pd.concat([f, pd.DataFrame(nan_lines)], ignore_index=True)\n",
    "            new_file.to_csv(string, index=False)\n",
    "\n",
    "if len(pd.read_csv(\"dataset/01-01-01-01-01-01-01.csv\")) != all_max_frames:\n",
    "    complete_files(\"dataset\", all_max_frames)"
   ]
  },
  {
   "cell_type": "markdown",
   "metadata": {},
   "source": [
    "##### 2.3 Emoção - Nome do Ficheiro"
   ]
  },
  {
   "cell_type": "code",
   "execution_count": null,
   "metadata": {},
   "outputs": [],
   "source": [
    "def emotion_file(subject_emotions):\n",
    "    ef = []\n",
    "    \n",
    "    for key1, value1 in subject_emotions.items():\n",
    "        for key2, value2 in value1.items():\n",
    "            ef.extend([key2, emotion] for emotion in value2)\n",
    "    \n",
    "    return ef\n",
    "\n",
    "ef = emotion_file(all_subject_emotions)\n",
    "print(ef)"
   ]
  },
  {
   "cell_type": "markdown",
   "metadata": {},
   "source": [
    "##### 2.4 e 2.5 Representação dos frames em imagem"
   ]
  },
  {
   "cell_type": "code",
   "execution_count": null,
   "metadata": {},
   "outputs": [],
   "source": [
    "def show_expression(d, file, frames):\n",
    "    matrix_x = []\n",
    "    matrix_y = []\n",
    "    for frame in range(frames):\n",
    "        for coordinates in d[file][frame]:\n",
    "            matrix_x.append(coordinates[0])\n",
    "            matrix_y.append(coordinates[1])\n",
    "        plt.scatter(matrix_x, np.multiply(matrix_y, -1))\n",
    "        plt.axis('off')\n",
    "    plt.show()\n",
    "    \n",
    "all_frames = 5\n",
    "if all_frames > all_max_frames:\n",
    "    frames = all_max_frames\n",
    "\n",
    "show_expression(all_d, '01-01-01-01-01-01-01.csv', all_frames)"
   ]
  },
  {
   "cell_type": "markdown",
   "metadata": {},
   "source": [
    "#### 3. Análise e tratamento de Outliers\n",
    "##### 3.1 Normalização das coordenadas"
   ]
  },
  {
   "cell_type": "code",
   "execution_count": null,
   "metadata": {},
   "outputs": [],
   "source": [
    "def nomalize_coordinates(d, x_max, y_max, ref):    \n",
    "    for file in d.keys():\n",
    "        for frame in d[file]:\n",
    "            x_ref = d[file][frame][ref][0]\n",
    "            y_ref = d[file][frame][ref][1]\n",
    "            for coordenates in d[file][frame]:\n",
    "                coordenates[0] =  (coordenates[0] - x_ref) / x_max\n",
    "                coordenates[1] =  (coordenates[1] - y_ref) / y_max\n",
    "    \n",
    "    with open(\"dicionary_normalized.pkl\", 'wb') as arq:\n",
    "        pickle.dump(d, arq)\n",
    "    return d \n",
    "\n",
    "if os.path.exists(\"dicionary_normalized.pkl\"):\n",
    "    with open(\"dicionary_normalized.pkl\", 'rb') as arq:\n",
    "        all_d_normalized = pickle.load(arq)\n",
    "else:\n",
    "    all_d_normalized = nomalize_coordinates(d, 1280, 720, 27)\n",
    "    \n",
    "print(all_d_normalized)"
   ]
  },
  {
   "cell_type": "markdown",
   "metadata": {},
   "source": [
    "##### 3.2 Boxplot"
   ]
  },
  {
   "cell_type": "code",
   "execution_count": null,
   "metadata": {},
   "outputs": [],
   "source": [
    "def boxplot(d_normalized, coordinate, landmark, plot):\n",
    "    emotions = {\"01\" : [], \"02\" : [], \"03\" : [], \"04\" : [], \"05\": [], \"06\" : [], \"07\" : [], \"08\" : []}\n",
    "    x_labels = np.array(['Neutral', 'Calm', 'Happy', 'Sad', 'Angry', 'Fearful', 'Disgust', 'Surprised'])\n",
    "    for file in d_normalized.keys():\n",
    "        em = file.split('-')[2]\n",
    "        value = 0\n",
    "        for frame in d_normalized[file]:\n",
    "            value += d_normalized[file][frame][landmark][coordinate]\n",
    "        emotions[em].append(value/len(d_normalized[file]))\n",
    "    data = [emotions[\"01\"], emotions[\"02\"], emotions[\"03\"], emotions[\"04\"], emotions[\"05\"], emotions[\"06\"], emotions[\"07\"], emotions[\"08\"]] \n",
    "    if plot:\n",
    "        plt.boxplot(data, vert=True, labels=x_labels) #orientaçao vertical\n",
    "        plt.show()\n",
    "              \n",
    "    return emotions    \n",
    "\n",
    "all_d_boxplot = boxplot(all_d_normalized, 0, 54, False)\n",
    "\n",
    "    "
   ]
  },
  {
   "cell_type": "markdown",
   "metadata": {},
   "source": [
    "##### 3.3 Densidade dos Outliers"
   ]
  },
  {
   "cell_type": "code",
   "execution_count": null,
   "metadata": {},
   "outputs": [],
   "source": [
    "def density_outliers(data):\n",
    "    data.sort()\n",
    "    num_data = len(data)\n",
    "    q1 = np.percentile(data, 25)\n",
    "    q3 = np.percentile(data, 75)\n",
    "\n",
    "    iqr = q3 - q1\n",
    "    lim_superior = q3 + 1.5 * iqr\n",
    "    lim_inferior = q1 - 1.5 * iqr\n",
    "\n",
    "    outliers = [x for x in data if x > lim_superior or x < lim_inferior]\n",
    "    num_outliers = len(outliers)\n",
    "\n",
    "    density = (num_outliers/num_data) * 100\n",
    "    return density, outliers\n"
   ]
  },
  {
   "cell_type": "code",
   "execution_count": null,
   "metadata": {},
   "outputs": [],
   "source": [
    "def total_densities(d_normalized):\n",
    "    densities = []\n",
    "    for coordinate in range(2):\n",
    "        for i in range(68):\n",
    "            emotions = boxplot(d_normalized, coordinate, i, False)\n",
    "            for em in emotions:\n",
    "                densities.append(density_outliers(emotions[em])[0])\n",
    "    \n",
    "    return np.mean(densities), np.std(densities)\n",
    "\n",
    "all_density_mean, all_density_std = total_densities(all_d_normalized)\n",
    "\n",
    "print(\"Densidade de outliers no dataset: \")\n",
    "print(\"Média: \" + str(all_density_mean))\n",
    "print(\"Desvio padrão: \" + str(all_density_std))"
   ]
  },
  {
   "cell_type": "markdown",
   "metadata": {},
   "source": [
    "##### 3.4 Desidade de Outliers usando Z-Score"
   ]
  },
  {
   "cell_type": "code",
   "execution_count": null,
   "metadata": {},
   "outputs": [],
   "source": [
    "def zscore_outliers(array, k):\n",
    "    mean = np.mean(array)\n",
    "    std = np.std(array)\n",
    "    outliers = []\n",
    "    for x in range(len(array)):\n",
    "        z = abs((array[x] - mean)/std)\n",
    "        if z >= k:\n",
    "            outliers.append(x)\n",
    "    return outliers"
   ]
  },
  {
   "cell_type": "markdown",
   "metadata": {},
   "source": [
    "##### 3.5 Mostra a expressão com outliers a vermelho"
   ]
  },
  {
   "cell_type": "code",
   "execution_count": null,
   "metadata": {},
   "outputs": [],
   "source": [
    "def expression_outliers_zscore(d_normalized, file, frames, k):\n",
    "    for frame in range(frames):\n",
    "        matrix_x = []\n",
    "        matrix_y = []\n",
    "        for coordinates in d_normalized[file][frame]:\n",
    "            matrix_x.append(coordinates[0])\n",
    "            matrix_y.append(coordinates[1])\n",
    "\n",
    "        matrix_x = np.array(matrix_x)\n",
    "        matrix_y = np.array(matrix_y)\n",
    "        outliers_x = zscore_outliers(matrix_x, k)\n",
    "        outliers_y = zscore_outliers(matrix_y, k)\n",
    "\n",
    "        len_img = max(matrix_y)\n",
    "        matrix_y = len_img - matrix_y\n",
    "        plt.scatter(matrix_x, matrix_y, c = 'black')\n",
    "        plt.scatter(matrix_x[outliers_x], matrix_y[outliers_x], c = 'red')\n",
    "        plt.scatter(matrix_x[outliers_y], matrix_y[outliers_y], c = 'red')\n",
    "        plt.axis('off')\n",
    "        plt.show()\n",
    "\n",
    "expression_outliers_zscore(all_d_normalized, '01-01-02-01-01-01-01.csv', 1, 2)"
   ]
  },
  {
   "cell_type": "markdown",
   "metadata": {},
   "source": [
    "##### 3.7 Algoritmo k-means"
   ]
  },
  {
   "cell_type": "code",
   "execution_count": null,
   "metadata": {},
   "outputs": [],
   "source": [
    "def cluster_groups(all_coordenates, centroids):\n",
    "    group_centroids = {}\n",
    "    for i in range(len(centroids)):\n",
    "        group_centroids[i] = []\n",
    "\n",
    "    for coordenate in all_coordenates:\n",
    "        aux = []\n",
    "        for centroid in centroids:\n",
    "            aux.append(distance.euclidean(centroid, coordenate))\n",
    "        i = aux.index(min(aux))\n",
    "        group_centroids[i].append(coordenate)\n",
    "    return group_centroids"
   ]
  },
  {
   "cell_type": "code",
   "execution_count": null,
   "metadata": {},
   "outputs": [],
   "source": [
    "def algorithm_kmeans(d_normalized, file, frame, number_clusters):\n",
    "    all_coordenates = d_normalized[file][frame]\n",
    "\n",
    "    centroids = []\n",
    "    for i in range(number_clusters):    \n",
    "        c = random.choice(all_coordenates)\n",
    "        if c not in centroids:\n",
    "            centroids.append(c)\n",
    "        else:\n",
    "            i -= 1\n",
    "    group = cluster_groups(all_coordenates, centroids)\n",
    "\n",
    "    while(1):\n",
    "        new_centroids = []\n",
    "        for i in range(len(centroids)):\n",
    "            new_centroids.append([np.mean([coord[0] for coord in group[i]]), np.mean([coord[1] for coord in group[i]])])\n",
    "        new_group = cluster_groups(all_coordenates, centroids)\n",
    "        if new_group == group:\n",
    "            break\n",
    "        else:\n",
    "            group = new_group\n",
    "            centroids = new_centroids\n",
    "    \n",
    "    return group, centroids\n",
    "\n",
    "\n",
    "all_file_kmeans = '01-01-02-01-01-01-01.csv'\n",
    "all_frame_kmeans = 0\n",
    "all_number_cluster = 2\n",
    "\n",
    "all_group_centroids, all_centroids = algorithm_kmeans(all_d_normalized, all_file_kmeans, all_frame_kmeans, all_number_cluster)\n",
    "\n",
    "print(str(all_number_cluster) + \" clusters com o algoritmo kmeans\")\n",
    "for i in range(all_number_cluster):\n",
    "    print(all_centroids[i])\n",
    "    print(all_group_centroids[i])\n",
    "    print(\"--\")\n",
    "    "
   ]
  },
  {
   "cell_type": "markdown",
   "metadata": {},
   "source": [
    "##### 3.8 Calcular os Outiliers através do k-means"
   ]
  },
  {
   "cell_type": "code",
   "execution_count": null,
   "metadata": {},
   "outputs": [],
   "source": [
    "def kmeans_outliers(group_centroids, centroids):\n",
    "    outliers = []\n",
    "    for group in group_centroids:\n",
    "        aux = []\n",
    "        for coordenates in group_centroids[group]:\n",
    "            aux.append(distance.euclidean(centroids[group], coordenates))\n",
    "        mean_group = np.mean(aux)\n",
    "        for dist in aux:\n",
    "            if dist > mean_group:\n",
    "                outliers.append(group_centroids[group][aux.index(dist)])\n",
    "    return outliers \n",
    "\n",
    "all_outliers_kmeans = kmeans_outliers(all_group_centroids, all_centroids)  \n",
    "print(\"Outliers com o algoritmo kmeans:\") \n",
    "print(all_outliers_kmeans)    "
   ]
  },
  {
   "cell_type": "code",
   "execution_count": null,
   "metadata": {},
   "outputs": [],
   "source": [
    "def expression_outliers_kmeans(outliers, d_normalized, file, frame):\n",
    "    matrix_x = []\n",
    "    matrix_y = []\n",
    "    for coordinates in d_normalized[file][frame]:\n",
    "        matrix_x.append(coordinates[0])\n",
    "        matrix_y.append(coordinates[1])\n",
    "\n",
    "    matrix_x = np.array(matrix_x)\n",
    "    matrix_y = np.array(matrix_y)\n",
    "    outliers = np.array(outliers)\n",
    "\n",
    "    len_img = max(matrix_y)\n",
    "    matrix_y = len_img - matrix_y\n",
    "    plt.scatter(matrix_x, matrix_y, c = 'black')\n",
    "    plt.scatter(outliers[ :, 0], len_img - outliers[ :, 1], c = 'red')\n",
    "\n",
    "    plt.axis('off')\n",
    "    plt.show()\n",
    "\n",
    "    \n",
    "\n",
    "\n",
    "expression_outliers_kmeans(all_outliers_kmeans, all_d_normalized, all_file_kmeans, all_frame_kmeans)"
   ]
  },
  {
   "cell_type": "markdown",
   "metadata": {},
   "source": [
    "##### 3.9 Injetar Outliers num array"
   ]
  },
  {
   "cell_type": "code",
   "execution_count": null,
   "metadata": {},
   "outputs": [],
   "source": [
    "def inject_outliers(array, x): \n",
    "    mean_array = np.mean(array)\n",
    "    std_array = np.std(array)\n",
    "    \n",
    "    density, outliers = density_outliers(array)\n",
    "    total_ind = []\n",
    "    while density < x:\n",
    "        not_outliers = []\n",
    "        for i in array:\n",
    "            if i not in outliers:\n",
    "                not_outliers.append(i)\n",
    "        numbers = int((x - density) * len(not_outliers))\n",
    "        random_points = []\n",
    "        ind = []\n",
    "        for j in range(numbers):    \n",
    "            c = random.choice(not_outliers)\n",
    "            if c not in random_points:\n",
    "                ind.append(array.index(c))\n",
    "                total_ind.append(array.index(c))\n",
    "                k = 1.5\n",
    "                s = -1 + (random.random() * 2)\n",
    "                q1 = np.percentile(array, 25)\n",
    "                q3 = np.percentile(array, 75)\n",
    "                iqr = q3 - q1\n",
    "                z = q3 +  k * iqr\n",
    "                q = random.random() * z\n",
    "                p = mean_array + s * k * std_array + q\n",
    "                c += p\n",
    "                random_points.append(c)\n",
    "            else:\n",
    "                j -= 1\n",
    "        for k in range(len(ind)):\n",
    "            array[ind[k]] = random_points[k]\n",
    "        density,outliers = density_outliers(array)    \n",
    "    return array, total_ind      "
   ]
  },
  {
   "cell_type": "markdown",
   "metadata": {},
   "source": [
    "##### 3.10 Determinar o modelo linear"
   ]
  },
  {
   "cell_type": "code",
   "execution_count": null,
   "metadata": {},
   "outputs": [],
   "source": [
    "def linear_model(x, y):\n",
    "    x = np.insert(x, 0, 1, axis=1)\n",
    "    x_transpose = np.transpose(x)\n",
    "    x_transpose_x = np.dot(x_transpose, x) #4 * 4\n",
    "    x_transpose_x_inverse = np.linalg.inv(x_transpose_x)\n",
    "    x_transpose_x_inverse_x = np.dot(x_transpose_x_inverse, x_transpose)\n",
    "    beta = np.dot(x_transpose_x_inverse_x, y)\n",
    "    return beta"
   ]
  },
  {
   "cell_type": "markdown",
   "metadata": {},
   "source": [
    "##### 3.11 Usar 3.9 e 3.10 para um dado landmark"
   ]
  },
  {
   "cell_type": "code",
   "execution_count": null,
   "metadata": {},
   "outputs": [],
   "source": []
  },
  {
   "cell_type": "markdown",
   "metadata": {},
   "source": [
    "##### 4. Extração de informação estatística"
   ]
  },
  {
   "cell_type": "markdown",
   "metadata": {},
   "source": [
    "##### 4.1 Features relevantes"
   ]
  },
  {
   "cell_type": "code",
   "execution_count": null,
   "metadata": {},
   "outputs": [],
   "source": [
    "all_d_file = one_file_coordinates('01-01-01-01-01-01-01.csv')\n",
    "\n",
    "all_landmarks = [22, 57, 66, 54, 45, 44, 47, 13, 33, 28]"
   ]
  },
  {
   "cell_type": "code",
   "execution_count": null,
   "metadata": {},
   "outputs": [],
   "source": [
    "def just_landmarks(d):\n",
    "    d_landmarks = {}\n",
    "    for i in all_landmarks:\n",
    "        for frame in d:\n",
    "            if i not in d_landmarks:\n",
    "                d_landmarks[i] = [[d[frame][i][0], d[frame][i][1]]]\n",
    "            else:\n",
    "                d_landmarks[i].append([d[frame][i][0], d[frame][i][1]])\n",
    "    return d_landmarks\n",
    "\n",
    "all_d_landmarks = just_landmarks(all_d_file)\n",
    "print(all_d_landmarks)"
   ]
  },
  {
   "cell_type": "markdown",
   "metadata": {},
   "source": [
    "\n",
    "4.1.1 Média dos landmarks selecionados"
   ]
  },
  {
   "cell_type": "code",
   "execution_count": null,
   "metadata": {},
   "outputs": [],
   "source": [
    "def mean_landmarks():\n",
    "    d_mean = {}\n",
    "    for landmark in all_landmarks:\n",
    "        x = []\n",
    "        y = []\n",
    "        for coordinates in all_landmarks[landmark]:\n",
    "            x.append(coordinates[0])\n",
    "            y.append(coordinates[1])\n",
    "        d_mean[landmark] = [np.mean(x), np.mean(y)]      \n",
    "        \n",
    "    return d_mean\n",
    "\n",
    "all_d_mean = mean_landmarks(all_d_landmarks)\n",
    "print(all_d_mean)"
   ]
  },
  {
   "cell_type": "markdown",
   "metadata": {},
   "source": [
    "4.1.2 Distância entre landmarks"
   ]
  },
  {
   "cell_type": "code",
   "execution_count": null,
   "metadata": {},
   "outputs": [],
   "source": [
    "def distance_landmarks(d, d_landmarks):\n",
    "    d_distances = {}\n",
    "   \n",
    "    for i in range(len(all_landmarks) - 1):\n",
    "        d_aux = {}\n",
    "        for j in range(i + 1, len(all_landmarks)):\n",
    "            for frame in d:\n",
    "                if all_landmarks[j] not in d_aux:\n",
    "                    d_aux[all_landmarks[j]] = [distance.euclidean(d_landmarks[all_landmarks[i]][frame], d_landmarks[landmarks[j]][frame])]\n",
    "                else:\n",
    "                    d_aux[all_landmarks[j]].append(distance.euclidean(d_landmarks[all_landmarks[i]][frame], d_landmarks[landmarks[j]][frame]))\n",
    "        d_distances[all_landmarks[i]] = d_aux\n",
    "        \n",
    "    return d_distances  \n",
    "\n",
    "all_d_distances = distance_landmarks(all_d_file, all_d_landmarks)\n",
    "print(all_d_distances)  "
   ]
  },
  {
   "cell_type": "code",
   "execution_count": null,
   "metadata": {},
   "outputs": [],
   "source": [
    "def statics_distance(d_distances):\n",
    "    stats_distance = {}\n",
    "    for l1 in d_distances:\n",
    "        for l2 in d_distances[l1]:\n",
    "            string = str(l1) + \"-\" + str(l2)\n",
    "            stats_distance[string] = [np.mean(d_distances[l1][l2]), np.std(d_distances[l1][l2])]\n",
    "    return stats_distance\n",
    "\n",
    "all_stats_distance = statics_distance(all_d_distances)\n",
    "print(all_stats_distance)"
   ]
  },
  {
   "cell_type": "markdown",
   "metadata": {},
   "source": [
    "4.1.3 Velocidade entre frames para landmarks de interesse"
   ]
  },
  {
   "cell_type": "code",
   "execution_count": null,
   "metadata": {},
   "outputs": [],
   "source": [
    "def velocity_landmarks(d_landmarks, file):\n",
    "    f = pd.read_csv(\"dataset/\" + file)\n",
    "    time = f[\"timestamp\"]\n",
    "\n",
    "    d_velocity = {}\n",
    "    for landmark in d_landmarks:\n",
    "        d_velocity[landmark] = {}\n",
    "        for f1 in range(len(d_landmarks[landmark]) - 1):\n",
    "            d_velocity[landmark][f1] = {}\n",
    "            for f2 in range(f1 + 1, len(d_landmarks[landmark])):\n",
    "                d_velocity[landmark][f1][f2] = distance.euclidean(d_landmarks[landmark][f1], d_landmarks[landmark][f2])/(time[f2] - time[f1])\n",
    "    return d_velocity\n",
    "\n",
    "all_d_velocity = velocity_landmarks(all_d_landmarks, '01-01-02-01-01-01-01.csv')\n",
    "print(all_d_velocity)"
   ]
  },
  {
   "cell_type": "code",
   "execution_count": null,
   "metadata": {},
   "outputs": [],
   "source": [
    "def statics_velocity(d_velocity, d):\n",
    "    stats_velocity = {}\n",
    "    \n",
    "    for f1 in range(len(d) - 1):\n",
    "        stats_velocity[f1] = {}\n",
    "        for f2 in range(f1 + 1, len(d)):\n",
    "            stats_velocity[f1][f2] = {}\n",
    "            v = []\n",
    "            for landmark in d_velocity:\n",
    "                v.append(int(d_velocity[landmark][f1][f2]))\n",
    "            stats_velocity[f1][f2] = [np.mean(v), np.std(v)]\n",
    "    return stats_velocity\n",
    "\n",
    "all_stats_velocity = statics_velocity(all_d_velocity, all_d_file)\n",
    "print(all_stats_velocity)"
   ]
  },
  {
   "cell_type": "markdown",
   "metadata": {},
   "source": [
    "##### 4.2 Analisar as estatísticas extraídas"
   ]
  },
  {
   "cell_type": "code",
   "execution_count": null,
   "metadata": {},
   "outputs": [],
   "source": [
    "def calc_array_stats_mean(file):\n",
    "    d = one_file_coordinates(file)\n",
    "\n",
    "    d_landmarks = just_landmarks(d, all_d_landmarks)\n",
    "    \n",
    "    stats_distance = statics_distance(distance_landmarks(d, all_d_landmarks, d_landmarks))\n",
    "    \n",
    "    array_stats = [stats_distance[i][0] for i in stats_distance]\n",
    "    \n",
    "    return array_stats"
   ]
  },
  {
   "cell_type": "code",
   "execution_count": null,
   "metadata": {},
   "outputs": [],
   "source": [
    "def significant_stats(array_file_1, array_file2):\n",
    "    statistic, pvalue = ks_2samp(array_file_1, array_file2)\n",
    "\n",
    "    if pvalue > 0.05:\n",
    "        print('Estatística significante')\n",
    "    else:\n",
    "        print('Estatística insignificante')"
   ]
  },
  {
   "cell_type": "code",
   "execution_count": null,
   "metadata": {},
   "outputs": [],
   "source": [
    "def statistic_landmark(file1, file2):\n",
    "    array_file_1 = calc_array_stats_mean(file1, all_d_landmarks)\n",
    "    array_file_2 = calc_array_stats_mean(file2, all_d_landmarks)\n",
    "\n",
    "    significant_stats(array_file_1, array_file_2)\n",
    "\n",
    "statistic_landmark(\"01-01-01-01-01-01-01.csv\", \"01-01-02-01-01-01-01.csv\")"
   ]
  },
  {
   "cell_type": "markdown",
   "metadata": {},
   "source": [
    "##### 4.3 PCA de um feature"
   ]
  },
  {
   "cell_type": "code",
   "execution_count": 61,
   "metadata": {},
   "outputs": [],
   "source": [
    "def create_feature_set(df):\n",
    "    df_feature_set = None\n",
    "    \n",
    "    for frame in range(len(df)):\n",
    "        d = {}\n",
    "        d[\"frame\"] = frame\n",
    "        for landmark in range(68):\n",
    "            x_land = \"x_\" + str(landmark)\n",
    "            y_land = \"y_\" + str(landmark)\n",
    "            d[x_land] = df[x_land][frame]\n",
    "            d[y_land] = df[y_land][frame]\n",
    "        if df_feature_set is None:\n",
    "            df_feature_set = pd.DataFrame([d])\n",
    "        else:\n",
    "            df_feature_set = pd.concat([df_feature_set, pd.DataFrame([d])], ignore_index=True)\n",
    "        \n",
    "    return df_feature_set"
   ]
  },
  {
   "cell_type": "code",
   "execution_count": 62,
   "metadata": {},
   "outputs": [
    {
     "name": "stdout",
     "output_type": "stream",
     "text": [
      "Variância de cada componente:  [0.64352982 0.17266003]\n"
     ]
    },
    {
     "data": {
      "text/html": [
       "<div>\n",
       "<style scoped>\n",
       "    .dataframe tbody tr th:only-of-type {\n",
       "        vertical-align: middle;\n",
       "    }\n",
       "\n",
       "    .dataframe tbody tr th {\n",
       "        vertical-align: top;\n",
       "    }\n",
       "\n",
       "    .dataframe thead th {\n",
       "        text-align: right;\n",
       "    }\n",
       "</style>\n",
       "<table border=\"1\" class=\"dataframe\">\n",
       "  <thead>\n",
       "    <tr style=\"text-align: right;\">\n",
       "      <th></th>\n",
       "      <th>frame</th>\n",
       "      <th>Componente principal 1</th>\n",
       "      <th>Componente principal 2</th>\n",
       "    </tr>\n",
       "  </thead>\n",
       "  <tbody>\n",
       "    <tr>\n",
       "      <th>0</th>\n",
       "      <td>0</td>\n",
       "      <td>13.568217</td>\n",
       "      <td>-4.921042</td>\n",
       "    </tr>\n",
       "    <tr>\n",
       "      <th>1</th>\n",
       "      <td>1</td>\n",
       "      <td>14.888152</td>\n",
       "      <td>-2.737691</td>\n",
       "    </tr>\n",
       "    <tr>\n",
       "      <th>2</th>\n",
       "      <td>2</td>\n",
       "      <td>15.518428</td>\n",
       "      <td>-1.786435</td>\n",
       "    </tr>\n",
       "    <tr>\n",
       "      <th>3</th>\n",
       "      <td>3</td>\n",
       "      <td>15.599729</td>\n",
       "      <td>-1.560244</td>\n",
       "    </tr>\n",
       "    <tr>\n",
       "      <th>4</th>\n",
       "      <td>4</td>\n",
       "      <td>15.253422</td>\n",
       "      <td>-1.631503</td>\n",
       "    </tr>\n",
       "    <tr>\n",
       "      <th>...</th>\n",
       "      <td>...</td>\n",
       "      <td>...</td>\n",
       "      <td>...</td>\n",
       "    </tr>\n",
       "    <tr>\n",
       "      <th>93</th>\n",
       "      <td>93</td>\n",
       "      <td>-14.956635</td>\n",
       "      <td>0.460917</td>\n",
       "    </tr>\n",
       "    <tr>\n",
       "      <th>94</th>\n",
       "      <td>94</td>\n",
       "      <td>-15.064936</td>\n",
       "      <td>0.285803</td>\n",
       "    </tr>\n",
       "    <tr>\n",
       "      <th>95</th>\n",
       "      <td>95</td>\n",
       "      <td>-15.124230</td>\n",
       "      <td>0.406442</td>\n",
       "    </tr>\n",
       "    <tr>\n",
       "      <th>96</th>\n",
       "      <td>96</td>\n",
       "      <td>-15.134847</td>\n",
       "      <td>0.630857</td>\n",
       "    </tr>\n",
       "    <tr>\n",
       "      <th>97</th>\n",
       "      <td>97</td>\n",
       "      <td>-14.934716</td>\n",
       "      <td>1.433789</td>\n",
       "    </tr>\n",
       "  </tbody>\n",
       "</table>\n",
       "<p>98 rows × 3 columns</p>\n",
       "</div>"
      ],
      "text/plain": [
       "    frame  Componente principal 1  Componente principal 2\n",
       "0       0               13.568217               -4.921042\n",
       "1       1               14.888152               -2.737691\n",
       "2       2               15.518428               -1.786435\n",
       "3       3               15.599729               -1.560244\n",
       "4       4               15.253422               -1.631503\n",
       "..    ...                     ...                     ...\n",
       "93     93              -14.956635                0.460917\n",
       "94     94              -15.064936                0.285803\n",
       "95     95              -15.124230                0.406442\n",
       "96     96              -15.134847                0.630857\n",
       "97     97              -14.934716                1.433789\n",
       "\n",
       "[98 rows x 3 columns]"
      ]
     },
     "metadata": {},
     "output_type": "display_data"
    }
   ],
   "source": [
    "def pca(path):\n",
    "    df = pd.DataFrame(pd.read_csv(path))\n",
    "    df_without_nan = df.copy().dropna(how='all')\n",
    "    df_feature_set = create_feature_set(df_without_nan)\n",
    "    target = df_feature_set[\"frame\"]\n",
    "    data = df_feature_set.drop(\"frame\", axis = 1).values\n",
    "    \n",
    "    x = StandardScaler().fit_transform(data)\n",
    "    pca = PCA(n_components=2)\n",
    "    principal_comp = pca.fit_transform(x)\n",
    "    \n",
    "    columns = [\"Componente principal 1\", \"Componente principal 2\"]\n",
    "    \n",
    "    print(\"Variância de cada componente: \", pca.explained_variance_ratio_)\n",
    "    df_pca = pd.DataFrame(data=principal_comp, columns=columns)\n",
    "    pca_table = pd.concat([target, df_pca], axis = 1)\n",
    "    return pca_table\n",
    "\n",
    "all_pca_table = pca('dataset/01-01-01-01-01-01-01.csv')\n",
    "\n",
    "display(all_pca_table)"
   ]
  },
  {
   "cell_type": "markdown",
   "metadata": {},
   "source": [
    "Como podemos observar, as duas componenetes juntas conseguem conter aproximadamente 83% de informação."
   ]
  },
  {
   "cell_type": "code",
   "execution_count": 76,
   "metadata": {},
   "outputs": [
    {
     "data": {
      "image/png": "[encoded data removed]",
      "text/plain": [
       "<Figure size 800x800 with 1 Axes>"
      ]
     },
     "metadata": {},
     "output_type": "display_data"
    }
   ],
   "source": [
    "def pca_graph(pca_table):\n",
    "    plt.figure(figsize = (8,8))\n",
    "    plt.xlabel(\"Componente Principal 1\", fontsize = 10)\n",
    "    plt.ylabel(\"Componente Principal 2\", fontsize = 10)\n",
    "    plt.title(\"Gráfico PCA\", fontsize = 15)\n",
    "\n",
    "    targets = np.array(pca_table[\"frame\"])\n",
    "    for t in targets:\n",
    "        index_line = pca_table.index[pca_table['frame'] == t].tolist()[0]\n",
    "        x = pca_table['Componente principal 1'][index_line]\n",
    "        y = pca_table['Componente principal 2'][index_line]\n",
    "        plt.scatter(x, y, s = 50)\n",
    "        plt.text(x, y, str(t), fontsize='xx-small')\n",
    "    plt.show()\n",
    "\n",
    "pca_graph(all_pca_table)"
   ]
  }
 ],
 "metadata": {
  "kernelspec": {
   "display_name": "Python 3",
   "language": "python",
   "name": "python3"
  },
  "language_info": {
   "codemirror_mode": {
    "name": "ipython",
    "version": 3
   },
   "file_extension": ".py",
   "mimetype": "text/x-python",
   "name": "python",
   "nbconvert_exporter": "python",
   "pygments_lexer": "ipython3",
   "version": "3.12.0"
  }
 },
 "nbformat": 4,
 "nbformat_minor": 2
}
